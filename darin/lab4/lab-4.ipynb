{
 "cells": [
  {
   "cell_type": "markdown",
   "metadata": {},
   "source": [
    "# L4 - Reinforcement learning\n",
    "\n",
    "**Reinforcement learning** is one of the machine learning approaches, where our agent learns by interacting with the some environment. In contrast to the supervised learning there are no labeled objects. However, agent can get rewards, making some actions. The goal of the agent is to maximize the total reward over some time period. \n",
    "\n",
    "This lab is mainly based on the [book](http://incompleteideas.net/book/bookdraft2018jan1.pdf). You just must read it, if you are interesting in reinforcement learning."
   ]
  },
  {
   "cell_type": "markdown",
   "metadata": {},
   "source": [
    "### 1. Multi-armed bandit problem\n",
    "\n",
    "#### Problem statement\n",
    "##### Informal\n",
    "Let we have $N$ slot machines. Playing on the $i$th slot, the agent receives some random reward. The agent doesn't know probability distribution of rewards, however it needs to maximize winnings after $T$ games.\n",
    "\n",
    "##### Formal\n",
    "Let $\\mathcal{A}$ be a finite set of possible actions. For each action $a \\in \\mathcal{A}$ agent can get some reward which is determined by the unknown probability distribution $p(r|a)$. The strategy of the agent (policy) at time $t$ is some probability distribution on the set of actions – $\\pi_t(a)$.\n",
    "\n",
    "Games' steps:\n",
    "> 1. Agent has some initial policy $\\pi_1(a)$\n",
    "> 2. At time  $1 \\leq t \\leq T$:\n",
    "> 3. Agent randomly chooses action $a_t \\sim \\pi_t(a)$\n",
    "> 4. Gets some reward $r_t \\sim p(r|a_t)$\n",
    "> 5. And update its policy $\\pi_t \\rightarrow \\pi_{t+1}$\n",
    "\n",
    "Let $c_t(a)$ be how many times action $a$ was used at  moment $t$\n",
    "$$c_t(a) = \\sum_{i=1}^{t}[A_i = a].$$\n",
    "Then agent needs to minimize its regret\n",
    "$$T\\cdot\\mu^* - \\sum_a \\mu_a \\mathbb{E}[c_T(a)]$$\n",
    "* $\\mu_a$ – expected value of reward for action $a$\n",
    "* $\\mu^* = \\max_a \\mu_a$ – expected value of reward for optimal action\n",
    "\n",
    "So we can define regrest as following\n",
    "$$T\\cdot\\mu^* - \\mathbb{E}\\big[ \\sum_{t=1}^{T} R_t \\big].$$\n",
    "\n",
    "The first task was formulated in this [paper](http://projecteuclid.org/download/pdf_1/euclid.bams/1183517370).\n",
    "#### Model problem\n",
    "1. $|A| = 100, T = 1000$\n",
    "2. $\\mu_a \\sim \\mathcal{N}(0, 1)$\n",
    "3. $p(r|a) = \\mathcal{N}(r; \\mu_a, 1)$\n",
    "\n",
    "The game simulated $10^4$ times and we are interesting in plot **[step]** $\\times$ **[average total reward at current step]**.\n",
    "\n",
    "1. $Q_t(a)$ – average reward of action $a$ by moment $t$ (value of action), $\\lim_{c_t(a) \\rightarrow \\infty} Q_t(a) =\\mu_a$.\n",
    "2. $Q^*(a) = \\lim_{t \\rightarrow \\infty} Q_t(a) = \\mu_a$ – value of cation $a$.\n",
    "3. $\\mathcal{A}_t = \\arg\\max_a Q_t(a)$ – set of actions that has the greatest average reward at moment $t$.\n",
    "\n",
    "#### Greedy policy\n",
    "$$\\pi_t(a)= \\frac{1}{|\\mathcal{A}_t|}[a \\in \\mathcal{A}_t].$$\n",
    "\n",
    "#### Exercises\n",
    "1. Implement gready policy.\n",
    "2. What is main disadvantages?\n",
    "3. How do you init $\\pi$? Is there any better option?\n",
    "4. Check this policy on model problem."
   ]
  },
  {
   "cell_type": "code",
   "execution_count": 5,
   "metadata": {},
   "outputs": [],
   "source": [
    "import numpy as np\n",
    "import random\n",
    "import matplotlib.pyplot as plt"
   ]
  },
  {
   "cell_type": "code",
   "execution_count": 3,
   "metadata": {},
   "outputs": [],
   "source": [
    "def ind_max(A):\n",
    "    max = A[0]\n",
    "    ind = np.array([0])\n",
    "    for i in range(1, np.shape(A)[0]):\n",
    "        if (A[i] == max):\n",
    "            ind = np.append(ind, np.array([i]))\n",
    "        elif (A[i] > max):\n",
    "            max = A[i]\n",
    "            ind = np.array([i])\n",
    "    return ind"
   ]
  },
  {
   "cell_type": "code",
   "execution_count": 92,
   "metadata": {},
   "outputs": [],
   "source": [
    "\n",
    "expects_A = np.zeros((100, 1))\n",
    "\n",
    "for i in range(100):\n",
    "    expects_A[i] = random.normalvariate(0, 1)\n",
    "\n",
    "A = 100\n",
    "T = 1000\n",
    "\n",
    "policy = np.ones((100))\n",
    "real_reward = np.ones((1000)) #столько же, сколько шагов, номер автомата, количество прибыли\n",
    "awer_reward = np.zeros((100)) #размер прибыли, количество использований\n",
    "reward_a = np.zeros((100))\n",
    "num_use = np.zeros((100))\n"
   ]
  },
  {
   "cell_type": "code",
   "execution_count": 93,
   "metadata": {},
   "outputs": [],
   "source": [
    "\n",
    "for i in range(1000):\n",
    "    cur_a = np.argmax(policy)\n",
    "    real_reward[i] = random.normalvariate(expects_A[cur_a], 1)\n",
    "    reward_a[cur_a] += real_reward[i]\n",
    "    num_use[cur_a] += 1\n",
    "    \n",
    "    for i in range(100):\n",
    "        if num_use[i] != 0:\n",
    "            awer_reward[i] = reward_a[i]/num_use[i]\n",
    "            \n",
    "    A_t = ind_max(awer_reward)\n",
    "    for i in range(100):\n",
    "        if i in A_t:\n",
    "            policy[i] = 1/np.shape(A_t)[0]\n",
    "        else:\n",
    "            policy[i] = 0"
   ]
  },
  {
   "cell_type": "code",
   "execution_count": 94,
   "metadata": {
    "scrolled": false
   },
   "outputs": [
    {
     "name": "stdout",
     "output_type": "stream",
     "text": [
      "reward:  865.1353100615603\n"
     ]
    },
    {
     "data": {
      "image/png": "[encoded data removed]",
      "text/plain": [
       "<Figure size 432x288 with 1 Axes>"
      ]
     },
     "metadata": {
      "needs_background": "light"
     },
     "output_type": "display_data"
    }
   ],
   "source": [
    "print(\"reward: \", np.sum(real_reward))\n",
    "\n",
    "progress = real_reward.copy()\n",
    "for i in range(T):\n",
    "    progress[i] = sum(real_reward[:(i+1)])\n",
    "\n",
    "step = np.zeros((T))\n",
    "for i in range(T):\n",
    "    step[i] = i\n",
    "\n",
    "prog1 = progress.copy()\n",
    "plt.plot(step, progress, label = \"greedy\", color = \"orange\")\n",
    "plt.xlabel(\"step\")\n",
    "plt.ylabel(\"reward\")\n",
    "plt.legend()\n",
    "plt.show()\n",
    "\n"
   ]
  },
  {
   "cell_type": "code",
   "execution_count": 95,
   "metadata": {},
   "outputs": [
    {
     "name": "stdout",
     "output_type": "stream",
     "text": [
      "[1000.    0.    0.    0.    0.    0.    0.    0.    0.    0.    0.    0.\n",
      "    0.    0.    0.    0.    0.    0.    0.    0.    0.    0.    0.    0.\n",
      "    0.    0.    0.    0.    0.    0.    0.    0.    0.    0.    0.    0.\n",
      "    0.    0.    0.    0.    0.    0.    0.    0.    0.    0.    0.    0.\n",
      "    0.    0.    0.    0.    0.    0.    0.    0.    0.    0.    0.    0.\n",
      "    0.    0.    0.    0.    0.    0.    0.    0.    0.    0.    0.    0.\n",
      "    0.    0.    0.    0.    0.    0.    0.    0.    0.    0.    0.    0.\n",
      "    0.    0.    0.    0.    0.    0.    0.    0.    0.    0.    0.    0.\n",
      "    0.    0.    0.    0.]\n"
     ]
    }
   ],
   "source": [
    "print(num_use)"
   ]
  },
  {
   "cell_type": "markdown",
   "metadata": {},
   "source": [
    "#### $\\varepsilon$-greedy policy\n",
    "The previous approach only exploits the environment. However, agent should spend some time learning probability distribtion of rewards, to maximize its reward in the long term. Thus is a question of balance **exploration** and **exploitation**.\n",
    "\n",
    "Possible improvement:\n",
    "$$\\pi_t(a)=\\frac{1-\\varepsilon}{|\\mathcal{A}_t|}[a \\in A_t] + \\frac{\\varepsilon}{|\\mathcal{A}|},\\ \\varepsilon \\in [0, 1].$$\n",
    "\n",
    "#### Exercises\n",
    "1. Implement this policy.\n",
    "2. What happens if you increase $\\varepsilon$?\n",
    "3. How do you change $\\varepsilon$ during agent learning?\n",
    "4. Check this policy on model problem, using different $\\varepsilon$."
   ]
  },
  {
   "cell_type": "code",
   "execution_count": 102,
   "metadata": {},
   "outputs": [],
   "source": [
    "policy = np.ones((100))\n",
    "real_reward = np.ones((1000)) #столько же, сколько шагов, номер автомата, количество прибыли\n",
    "awer_reward = np.zeros((100)) #размер прибыли, количество использований\n",
    "reward_a = np.zeros((100))\n",
    "num_use = np.zeros((100))\n",
    "\n",
    "eps = 0.4\n",
    "for i in range(1000):\n",
    "    cur_a = np.argmax(policy)\n",
    "    real_reward[i] = random.normalvariate(expects_A[cur_a], 1)\n",
    "    reward_a[cur_a] += real_reward[i]\n",
    "    num_use[cur_a] += 1\n",
    "    \n",
    "    for i in range(100):\n",
    "        if num_use[i] != 0:\n",
    "            awer_reward[i] = reward_a[i]/num_use[i]\n",
    "            \n",
    "    A_t = ind_max(awer_reward)\n",
    "    for i in range(100):\n",
    "        if i in A_t:\n",
    "            policy[i] = (1-eps)/np.shape(A_t)[0] + eps/A\n",
    "        else:\n",
    "            policy[i] = eps/A"
   ]
  },
  {
   "cell_type": "code",
   "execution_count": 103,
   "metadata": {},
   "outputs": [
    {
     "name": "stdout",
     "output_type": "stream",
     "text": [
      "reward:  1404.660679911934\n"
     ]
    },
    {
     "data": {
      "image/png": "[encoded data removed]",
      "text/plain": [
       "<Figure size 432x288 with 1 Axes>"
      ]
     },
     "metadata": {
      "needs_background": "light"
     },
     "output_type": "display_data"
    }
   ],
   "source": [
    "print(\"reward: \", np.sum(real_reward))\n",
    "\n",
    "progress = real_reward.copy()\n",
    "for i in range(T):\n",
    "    progress[i] = sum(real_reward[:(i+1)])\n",
    "\n",
    "step = np.zeros((T))\n",
    "for i in range(T):\n",
    "    step[i] = i\n",
    "    \n",
    "prog2 = progress.copy()\n",
    "\n",
    "plt.plot(step, progress, label = \"e-greedy, e = 0.7\", color = \"orange\")\n",
    "plt.xlabel(\"step\")\n",
    "plt.ylabel(\"reward\")\n",
    "plt.legend()\n",
    "plt.show()\n"
   ]
  },
  {
   "cell_type": "code",
   "execution_count": 104,
   "metadata": {},
   "outputs": [
    {
     "name": "stdout",
     "output_type": "stream",
     "text": [
      "[  2.   1.   1.   1. 995.   0.   0.   0.   0.   0.   0.   0.   0.   0.\n",
      "   0.   0.   0.   0.   0.   0.   0.   0.   0.   0.   0.   0.   0.   0.\n",
      "   0.   0.   0.   0.   0.   0.   0.   0.   0.   0.   0.   0.   0.   0.\n",
      "   0.   0.   0.   0.   0.   0.   0.   0.   0.   0.   0.   0.   0.   0.\n",
      "   0.   0.   0.   0.   0.   0.   0.   0.   0.   0.   0.   0.   0.   0.\n",
      "   0.   0.   0.   0.   0.   0.   0.   0.   0.   0.   0.   0.   0.   0.\n",
      "   0.   0.   0.   0.   0.   0.   0.   0.   0.   0.   0.   0.   0.   0.\n",
      "   0.   0.]\n"
     ]
    }
   ],
   "source": [
    "print(num_use)"
   ]
  },
  {
   "cell_type": "code",
   "execution_count": 131,
   "metadata": {},
   "outputs": [],
   "source": [
    "policy = np.ones((100))\n",
    "real_reward = np.ones((1000)) #столько же, сколько шагов, номер автомата, количество прибыли\n",
    "awer_reward = np.zeros((100)) #размер прибыли, количество использований\n",
    "reward_a = np.zeros((100))\n",
    "num_use = np.zeros((100))\n",
    "\n",
    "\n",
    "eps = 0.5\n",
    "for i in range(1000):\n",
    "    if i >= 500:\n",
    "        eps /= 10000\n",
    "    cur_a = np.argmax(policy)\n",
    "    real_reward[i] = random.normalvariate(expects_A[cur_a], 1)\n",
    "    reward_a[cur_a] += real_reward[i]\n",
    "    num_use[cur_a] += 1\n",
    "    \n",
    "    for i in range(100):\n",
    "        if num_use[i] != 0:\n",
    "            awer_reward[i] = reward_a[i]/num_use[i]\n",
    "            \n",
    "    A_t = ind_max(awer_reward)\n",
    "    for i in range(100):\n",
    "        if i in A_t:\n",
    "            policy[i] = (1-eps)/np.shape(A_t)[0] + eps/A\n",
    "        else:\n",
    "            policy[i] = eps/A"
   ]
  },
  {
   "cell_type": "code",
   "execution_count": 132,
   "metadata": {},
   "outputs": [
    {
     "name": "stdout",
     "output_type": "stream",
     "text": [
      "reward:  1415.5595050996496\n"
     ]
    },
    {
     "data": {
      "image/png": "[encoded data removed]",
      "text/plain": [
       "<Figure size 432x288 with 1 Axes>"
      ]
     },
     "metadata": {
      "needs_background": "light"
     },
     "output_type": "display_data"
    }
   ],
   "source": [
    "print(\"reward: \", np.sum(real_reward))\n",
    "\n",
    "progress = real_reward.copy()\n",
    "for i in range(T):\n",
    "    progress[i] = sum(real_reward[:(i+1)])\n",
    "\n",
    "step = np.zeros((T))\n",
    "for i in range(T):\n",
    "    step[i] = i\n",
    "    \n",
    "prog3 = progress.copy()\n",
    "\n",
    "plt.plot(step, progress, label = \"e-greedy, e *=1/10000\", color = \"orange\")\n",
    "plt.xlabel(\"step\")\n",
    "plt.ylabel(\"reward\")\n",
    "plt.legend()\n",
    "plt.show()"
   ]
  },
  {
   "cell_type": "code",
   "execution_count": 133,
   "metadata": {},
   "outputs": [
    {
     "name": "stdout",
     "output_type": "stream",
     "text": [
      "[  1.   1.   9.   1. 988.   0.   0.   0.   0.   0.   0.   0.   0.   0.\n",
      "   0.   0.   0.   0.   0.   0.   0.   0.   0.   0.   0.   0.   0.   0.\n",
      "   0.   0.   0.   0.   0.   0.   0.   0.   0.   0.   0.   0.   0.   0.\n",
      "   0.   0.   0.   0.   0.   0.   0.   0.   0.   0.   0.   0.   0.   0.\n",
      "   0.   0.   0.   0.   0.   0.   0.   0.   0.   0.   0.   0.   0.   0.\n",
      "   0.   0.   0.   0.   0.   0.   0.   0.   0.   0.   0.   0.   0.   0.\n",
      "   0.   0.   0.   0.   0.   0.   0.   0.   0.   0.   0.   0.   0.   0.\n",
      "   0.   0.]\n"
     ]
    }
   ],
   "source": [
    "print(num_use)"
   ]
  },
  {
   "cell_type": "code",
   "execution_count": 135,
   "metadata": {},
   "outputs": [
    {
     "data": {
      "image/png": "[encoded data removed]",
      "text/plain": [
       "<Figure size 432x288 with 1 Axes>"
      ]
     },
     "metadata": {
      "needs_background": "light"
     },
     "output_type": "display_data"
    }
   ],
   "source": [
    "plt.plot(step, prog2, label = \"e-greedy, e = 0.4\", color = \"green\")\n",
    "plt.plot(step, prog3, label = \"e-greedy, e *= 1/10000\", color = \"red\")\n",
    "plt.plot(step, prog1, label = \"greedy\", color = \"orange\")\n",
    "plt.xlabel(\"step\")\n",
    "plt.ylabel(\"reward\")\n",
    "plt.legend()\n",
    "plt.show()"
   ]
  },
  {
   "cell_type": "markdown",
   "metadata": {},
   "source": [
    "#### Softmax\n",
    "One more interpretation of $\\varepsilon$-greedy policy\n",
    "\n",
    "$$\\pi_t(a)=\\frac{\\exp(\\frac{1}{\\varepsilon} \\cdot Q_t(a))}{\\sum_{b} \\exp(\\frac{1}{\\varepsilon} \\cdot Q_t(b))},\\ \\varepsilon >0.$$\n",
    "\n",
    "#### Exercises\n",
    "1. Implement this policy.\n",
    "2. What happens if $\\varepsilon \\rightarrow 0$? What about $\\varepsilon \\rightarrow \\infty$?\n",
    "3. Compare softmax and $\\varepsilon$-greedy policy on model problem."
   ]
  },
  {
   "cell_type": "code",
   "execution_count": null,
   "metadata": {},
   "outputs": [],
   "source": [
    "import math as match"
   ]
  },
  {
   "cell_type": "code",
   "execution_count": 4,
   "metadata": {},
   "outputs": [
    {
     "ename": "NameError",
     "evalue": "name 'expects_A' is not defined",
     "output_type": "error",
     "traceback": [
      "\u001b[0;31m---------------------------------------------------------------------------\u001b[0m",
      "\u001b[0;31mNameError\u001b[0m                                 Traceback (most recent call last)",
      "\u001b[0;32m<ipython-input-4-b50721ba34bb>\u001b[0m in \u001b[0;36m<module>\u001b[0;34m\u001b[0m\n\u001b[1;32m     10\u001b[0m         \u001b[0meps\u001b[0m \u001b[0;34m*=\u001b[0m \u001b[0;36m1000\u001b[0m\u001b[0;34m\u001b[0m\u001b[0;34m\u001b[0m\u001b[0m\n\u001b[1;32m     11\u001b[0m     \u001b[0mcur_a\u001b[0m \u001b[0;34m=\u001b[0m \u001b[0mnp\u001b[0m\u001b[0;34m.\u001b[0m\u001b[0margmax\u001b[0m\u001b[0;34m(\u001b[0m\u001b[0mpolicy\u001b[0m\u001b[0;34m)\u001b[0m\u001b[0;34m\u001b[0m\u001b[0;34m\u001b[0m\u001b[0m\n\u001b[0;32m---> 12\u001b[0;31m     \u001b[0mreal_reward\u001b[0m\u001b[0;34m[\u001b[0m\u001b[0mi\u001b[0m\u001b[0;34m]\u001b[0m \u001b[0;34m=\u001b[0m \u001b[0mrandom\u001b[0m\u001b[0;34m.\u001b[0m\u001b[0mnormalvariate\u001b[0m\u001b[0;34m(\u001b[0m\u001b[0mexpects_A\u001b[0m\u001b[0;34m[\u001b[0m\u001b[0mcur_a\u001b[0m\u001b[0;34m]\u001b[0m\u001b[0;34m,\u001b[0m \u001b[0;36m1\u001b[0m\u001b[0;34m)\u001b[0m\u001b[0;34m\u001b[0m\u001b[0;34m\u001b[0m\u001b[0m\n\u001b[0m\u001b[1;32m     13\u001b[0m     \u001b[0mreward_a\u001b[0m\u001b[0;34m[\u001b[0m\u001b[0mcur_a\u001b[0m\u001b[0;34m]\u001b[0m \u001b[0;34m+=\u001b[0m \u001b[0mreal_reward\u001b[0m\u001b[0;34m[\u001b[0m\u001b[0mi\u001b[0m\u001b[0;34m]\u001b[0m\u001b[0;34m\u001b[0m\u001b[0;34m\u001b[0m\u001b[0m\n\u001b[1;32m     14\u001b[0m     \u001b[0mnum_use\u001b[0m\u001b[0;34m[\u001b[0m\u001b[0mcur_a\u001b[0m\u001b[0;34m]\u001b[0m \u001b[0;34m+=\u001b[0m \u001b[0;36m1\u001b[0m\u001b[0;34m\u001b[0m\u001b[0;34m\u001b[0m\u001b[0m\n",
      "\u001b[0;31mNameError\u001b[0m: name 'expects_A' is not defined"
     ]
    }
   ],
   "source": [
    "policy = np.ones((100))\n",
    "real_reward = np.ones((1000)) #столько же, сколько шагов, номер автомата, количество прибыли\n",
    "awer_reward = np.zeros((100)) #размер прибыли, количество использований\n",
    "reward_a = np.zeros((100))\n",
    "num_use = np.zeros((100))\n",
    "\n",
    "eps = 1000\n",
    "for i in range(1000):\n",
    "    if eps >= 10:\n",
    "        eps *= 1000\n",
    "    cur_a = np.argmax(policy)\n",
    "    real_reward[i] = random.normalvariate(expects_A[cur_a], 1)\n",
    "    reward_a[cur_a] += real_reward[i]\n",
    "    num_use[cur_a] += 1\n",
    "    \n",
    "    for i in range(100):\n",
    "        if num_use[i] != 0:\n",
    "            awer_reward[i] = reward_a[i]/num_use[i]\n",
    "            \n",
    "    A_t = ind_max(awer_reward)\n",
    "    for i in range(100):\n",
    "        policy[i] = match.exp(1/eps * awer_reward[i])\n",
    "        den = 0\n",
    "        for j in range(100):\n",
    "            den += (match.exp(1/eps)* awer_reward[j])\n",
    "        policy[i] /= den"
   ]
  },
  {
   "cell_type": "code",
   "execution_count": 176,
   "metadata": {},
   "outputs": [
    {
     "name": "stdout",
     "output_type": "stream",
     "text": [
      "reward:  884.0049650501089\n"
     ]
    },
    {
     "data": {
      "image/png": "[encoded data removed]",
      "text/plain": [
       "<Figure size 432x288 with 1 Axes>"
      ]
     },
     "metadata": {
      "needs_background": "light"
     },
     "output_type": "display_data"
    }
   ],
   "source": [
    "print(\"reward: \", np.sum(real_reward))\n",
    "\n",
    "progress = real_reward.copy()\n",
    "for i in range(T):\n",
    "    progress[i] = sum(real_reward[:(i+1)])\n",
    "\n",
    "step = np.zeros((T))\n",
    "for i in range(T):\n",
    "    step[i] = i\n",
    "    \n",
    "prog4 = progress.copy()\n",
    "plt.plot(step, progress, label = \"softmax, e to inf\", color = \"orange\")\n",
    "plt.xlabel(\"step\")\n",
    "plt.ylabel(\"reward\")\n",
    "plt.legend()\n",
    "plt.show()\n"
   ]
  },
  {
   "cell_type": "code",
   "execution_count": 154,
   "metadata": {},
   "outputs": [
    {
     "name": "stdout",
     "output_type": "stream",
     "text": [
      "[9.970e+02 1.000e+00 9.000e+00 2.000e+00 4.994e+03 0.000e+00 0.000e+00\n",
      " 0.000e+00 0.000e+00 0.000e+00 0.000e+00 0.000e+00 0.000e+00 0.000e+00\n",
      " 0.000e+00 0.000e+00 0.000e+00 0.000e+00 0.000e+00 0.000e+00 0.000e+00\n",
      " 0.000e+00 0.000e+00 0.000e+00 0.000e+00 0.000e+00 0.000e+00 0.000e+00\n",
      " 0.000e+00 0.000e+00 0.000e+00 0.000e+00 0.000e+00 0.000e+00 0.000e+00\n",
      " 0.000e+00 0.000e+00 0.000e+00 0.000e+00 0.000e+00 0.000e+00 0.000e+00\n",
      " 0.000e+00 0.000e+00 0.000e+00 0.000e+00 0.000e+00 0.000e+00 0.000e+00\n",
      " 0.000e+00 0.000e+00 0.000e+00 0.000e+00 0.000e+00 0.000e+00 0.000e+00\n",
      " 0.000e+00 0.000e+00 0.000e+00 0.000e+00 0.000e+00 0.000e+00 0.000e+00\n",
      " 0.000e+00 0.000e+00 0.000e+00 0.000e+00 0.000e+00 0.000e+00 0.000e+00\n",
      " 0.000e+00 0.000e+00 0.000e+00 0.000e+00 0.000e+00 0.000e+00 0.000e+00\n",
      " 0.000e+00 0.000e+00 0.000e+00 0.000e+00 0.000e+00 0.000e+00 0.000e+00\n",
      " 0.000e+00 0.000e+00 0.000e+00 0.000e+00 0.000e+00 0.000e+00 0.000e+00\n",
      " 0.000e+00 0.000e+00 0.000e+00 0.000e+00 0.000e+00 0.000e+00 0.000e+00\n",
      " 0.000e+00 0.000e+00]\n"
     ]
    }
   ],
   "source": [
    "print(num_use)"
   ]
  },
  {
   "cell_type": "code",
   "execution_count": 5,
   "metadata": {},
   "outputs": [],
   "source": [
    "def made_A():\n",
    "    expects_A = np.zeros((100, 1))\n",
    "\n",
    "    for i in range(100):\n",
    "        expects_A[i] = random.normalvariate(0, 1)\n",
    "\n",
    "    A = 100\n",
    "    T = 1000\n",
    "    return (expects_A, A, T)"
   ]
  },
  {
   "cell_type": "code",
   "execution_count": 6,
   "metadata": {},
   "outputs": [],
   "source": [
    "def greedy(expects_A, A, T):\n",
    "    policy = np.ones((100))\n",
    "    real_reward = np.ones((1000)) #столько же, сколько шагов, номер автомата, количество прибыли\n",
    "    awer_reward = np.zeros((100)) #размер прибыли, количество использований\n",
    "    reward_a = np.zeros((100))\n",
    "    num_use = np.zeros((100))\n",
    "\n",
    "    for i in range(T):\n",
    "        cur_a = np.argmax(policy)\n",
    "        real_reward[i] = random.normalvariate(expects_A[cur_a], 1)\n",
    "        reward_a[cur_a] += real_reward[i]\n",
    "        num_use[cur_a] += 1\n",
    "\n",
    "        for i in range(100):\n",
    "            if num_use[i] != 0:\n",
    "                awer_reward[i] = reward_a[i]/num_use[i]\n",
    "\n",
    "        A_t = ind_max(awer_reward)\n",
    "        for i in range(100):\n",
    "            if i in A_t:\n",
    "                policy[i] = 1/np.shape(A_t)[0]\n",
    "            else:\n",
    "                policy[i] = 0\n",
    "                \n",
    "        return real_reward"
   ]
  },
  {
   "cell_type": "code",
   "execution_count": 7,
   "metadata": {},
   "outputs": [],
   "source": [
    "def e_greedy(expects_A, A, T, eps):\n",
    "    policy = np.ones((100))\n",
    "    real_reward = np.ones((1000)) #столько же, сколько шагов, номер автомата, количество прибыли\n",
    "    awer_reward = np.zeros((100)) #размер прибыли, количество использований\n",
    "    reward_a = np.zeros((100))\n",
    "    num_use = np.zeros((100))\n",
    "\n",
    "    for i in range(1000):\n",
    "        cur_a = np.argmax(policy)\n",
    "        real_reward[i] = random.normalvariate(expects_A[cur_a], 1)\n",
    "        reward_a[cur_a] += real_reward[i]\n",
    "        num_use[cur_a] += 1\n",
    "\n",
    "        for i in range(100):\n",
    "            if num_use[i] != 0:\n",
    "                awer_reward[i] = reward_a[i]/num_use[i]\n",
    "\n",
    "        A_t = ind_max(awer_reward)\n",
    "        for j in range(100):\n",
    "            if j in A_t:\n",
    "                policy[j] = (1-eps)/np.shape(A_t)[0] + eps/A\n",
    "            else:\n",
    "                policy[j] = eps/A\n",
    "    return real_reward"
   ]
  },
  {
   "cell_type": "code",
   "execution_count": 8,
   "metadata": {},
   "outputs": [],
   "source": [
    "def softmax(expects_A, A, T):\n",
    "    policy = np.ones((100))\n",
    "    real_reward = np.ones((1000)) #столько же, сколько шагов, номер автомата, количество прибыли\n",
    "    awer_reward = np.ones((100)) #размер прибыли, количество использований\n",
    "    reward_a = np.zeros((100))\n",
    "    num_use = np.zeros((100))\n",
    "\n",
    "    eps = 1000\n",
    "    for i in range(1000):\n",
    "        if T >= 100:\n",
    "            eps *= 5\n",
    "        cur_a = np.argmax(policy)\n",
    "        real_reward[i] = random.normalvariate(expects_A[cur_a], 1)\n",
    "        reward_a[cur_a] += real_reward[i]\n",
    "        num_use[cur_a] += 1\n",
    "\n",
    "        for i in range(100):\n",
    "            if num_use[i] != 0:\n",
    "                awer_reward[i] = reward_a[i]/num_use[i]\n",
    "\n",
    "        A_t = ind_max(awer_reward)\n",
    "        for i in range(100):\n",
    "            policy[i] = match.exp(1/eps * awer_reward[i])\n",
    "            den = 0\n",
    "            for j in range(100):\n",
    "                den += match.exp(1/eps * awer_reward[j])\n",
    "            policy[i] /= den\n",
    "    return real_reward"
   ]
  },
  {
   "cell_type": "code",
   "execution_count": 9,
   "metadata": {},
   "outputs": [],
   "source": [
    "def print_reward(color, real_reward, label, T):\n",
    "    \n",
    "    print(\"reward: \", np.sum(real_reward))\n",
    "\n",
    "    progress = real_reward.copy()\n",
    "    for i in range(T):\n",
    "        progress[i] = sum(real_reward[:(i+1)])\n",
    "\n",
    "    step = np.zeros((T))\n",
    "    for i in range(T):\n",
    "        step[i] = i\n",
    "\n",
    "    plt.plot(step, progress, label = label, color = color)\n",
    "    plt.xlabel(\"step\")\n",
    "    plt.ylabel(\"reward\")\n",
    "    plt.legend()\n"
   ]
  },
  {
   "cell_type": "code",
   "execution_count": 8,
   "metadata": {
    "scrolled": true
   },
   "outputs": [
    {
     "name": "stdout",
     "output_type": "stream",
     "text": [
      "reward:  998.996231772899\n"
     ]
    },
    {
     "data": {
      "image/png": "[encoded data removed]",
      "text/plain": [
       "<Figure size 432x288 with 1 Axes>"
      ]
     },
     "metadata": {
      "needs_background": "light"
     },
     "output_type": "display_data"
    }
   ],
   "source": [
    "sum_greedy = np.zeros((1000))\n",
    "n = 10000\n",
    "\n",
    "for i in range(n):\n",
    "    expects_A1, A, T = made_A()\n",
    "    gr = greedy(expects_A1, A, T)\n",
    "    sum_greedy += gr\n",
    "\n",
    "sum_greedy /= n\n",
    "print_reward(\"orange\", sum_greedy, \"greedy\", T)"
   ]
  },
  {
   "cell_type": "code",
   "execution_count": 9,
   "metadata": {},
   "outputs": [
    {
     "name": "stdout",
     "output_type": "stream",
     "text": [
      "reward:  1046.4788180682604\n"
     ]
    },
    {
     "data": {
      "image/png": "[encoded data removed]",
      "text/plain": [
       "<Figure size 432x288 with 1 Axes>"
      ]
     },
     "metadata": {
      "needs_background": "light"
     },
     "output_type": "display_data"
    }
   ],
   "source": [
    "sum_e_greedy = np.zeros((1000))\n",
    "n = 10000\n",
    "\n",
    "for i in range(n):\n",
    "    expects_A1, A, T = made_A()\n",
    "    e_gr = e_greedy(expects_A1, A, T)\n",
    "    sum_e_greedy += e_gr\n",
    "\n",
    "sum_e_greedy /= n\n",
    "print_reward(\"green\", sum_e_greedy, \"e-greedy\", T)"
   ]
  },
  {
   "cell_type": "code",
   "execution_count": 11,
   "metadata": {},
   "outputs": [
    {
     "name": "stdout",
     "output_type": "stream",
     "text": [
      "reward:  1047.4764422904964\n"
     ]
    },
    {
     "data": {
      "image/png": "[encoded data removed]",
      "text/plain": [
       "<Figure size 432x288 with 1 Axes>"
      ]
     },
     "metadata": {
      "needs_background": "light"
     },
     "output_type": "display_data"
    }
   ],
   "source": [
    "sum_e_greedy = np.zeros((1000))\n",
    "n = 10000\n",
    "\n",
    "for i in range(n):\n",
    "    expects_A1, A, T = made_A()\n",
    "    e_gr = e_greedy(expects_A1, A, T, 0.1)\n",
    "    sum_e_greedy += e_gr\n",
    "\n",
    "sum_e_greedy /= n\n",
    "print_reward(\"#FFBD88\", sum_e_greedy, \"e-greedy\", T)"
   ]
  },
  {
   "cell_type": "code",
   "execution_count": 200,
   "metadata": {},
   "outputs": [
    {
     "name": "stdout",
     "output_type": "stream",
     "text": [
      "998.4652125752958\n"
     ]
    }
   ],
   "source": [
    "gr_awer_reward = (np.sum(gr1) + np.sum(gr2) + np.sum(gr3) + np.sum(gr4) + np.sum(gr5)) / 5\n",
    "print(gr_awer_reward)"
   ]
  },
  {
   "cell_type": "code",
   "execution_count": 202,
   "metadata": {},
   "outputs": [],
   "source": [
    "sum_e_greedy = np.zeros((1000))\n",
    "n = 10000\n",
    "\n",
    "for i in range(n):\n",
    "    expects_A1, A, T = made_A()\n",
    "    e_gr = e_greedy(expects_A1, A, T, 0.1)\n",
    "    sum_e_greedy += e_gr\n",
    "\n",
    "sum_e_greedy /= n\n",
    "print_reward(\"#FFBD88\", sum_e_greedy, \"e-greedy\", T)"
   ]
  },
  {
   "cell_type": "code",
   "execution_count": 203,
   "metadata": {},
   "outputs": [
    {
     "name": "stdout",
     "output_type": "stream",
     "text": [
      "1269.1082907463392\n"
     ]
    }
   ],
   "source": [
    "e_gr_awer_reward = (np.sum(e_gr1) + np.sum(e_gr2) + np.sum(e_gr3) + np.sum(e_gr4) + np.sum(e_gr5)) / 5\n",
    "print(e_gr_awer_reward)"
   ]
  },
  {
   "cell_type": "code",
   "execution_count": 251,
   "metadata": {},
   "outputs": [],
   "source": [
    "soft1 = softmax(expects_A1, A, T)\n",
    "soft2 = softmax(expects_A1, A, T)\n",
    "soft3 = softmax(expects_A1, A, T)\n",
    "soft4 = softmax(expects_A1, A, T)\n",
    "soft5 = softmax(expects_A1, A, T)"
   ]
  },
  {
   "cell_type": "code",
   "execution_count": 252,
   "metadata": {},
   "outputs": [
    {
     "name": "stdout",
     "output_type": "stream",
     "text": [
      "-978.5782184763053\n"
     ]
    }
   ],
   "source": [
    "e_gr_awer_reward = (np.sum(soft1) + np.sum(soft2) + np.sum(soft3) + np.sum(soft4) + np.sum(soft5)) / 5\n",
    "print(e_gr_awer_reward)"
   ]
  },
  {
   "cell_type": "code",
   "execution_count": 256,
   "metadata": {},
   "outputs": [
    {
     "name": "stdout",
     "output_type": "stream",
     "text": [
      "reward:  -948.6392667897339\n"
     ]
    },
    {
     "data": {
      "image/png": "[encoded data removed]",
      "text/plain": [
       "<Figure size 432x288 with 1 Axes>"
      ]
     },
     "metadata": {
      "needs_background": "light"
     },
     "output_type": "display_data"
    },
    {
     "name": "stdout",
     "output_type": "stream",
     "text": [
      "reward:  -1036.3094992492875\n"
     ]
    },
    {
     "data": {
      "image/png": "[encoded data removed]",
      "text/plain": [
       "<Figure size 432x288 with 1 Axes>"
      ]
     },
     "metadata": {
      "needs_background": "light"
     },
     "output_type": "display_data"
    },
    {
     "name": "stdout",
     "output_type": "stream",
     "text": [
      "reward:  -990.2955757636096\n"
     ]
    },
    {
     "data": {
      "image/png": "[encoded data removed]",
      "text/plain": [
       "<Figure size 432x288 with 1 Axes>"
      ]
     },
     "metadata": {
      "needs_background": "light"
     },
     "output_type": "display_data"
    },
    {
     "name": "stdout",
     "output_type": "stream",
     "text": [
      "reward:  -945.1735282811514\n"
     ]
    },
    {
     "data": {
      "image/png": "[encoded data removed]",
      "text/plain": [
       "<Figure size 432x288 with 1 Axes>"
      ]
     },
     "metadata": {
      "needs_background": "light"
     },
     "output_type": "display_data"
    },
    {
     "name": "stdout",
     "output_type": "stream",
     "text": [
      "reward:  -972.4732222977441\n"
     ]
    },
    {
     "data": {
      "image/png": "[encoded data removed]",
      "text/plain": [
       "<Figure size 432x288 with 1 Axes>"
      ]
     },
     "metadata": {
      "needs_background": "light"
     },
     "output_type": "display_data"
    }
   ],
   "source": [
    "print_reward(\"orange\", soft1, \"soft1\", T)\n",
    "print_reward(\"green\", soft2, \"soft2\", T)\n",
    "print_reward(\"yellow\", soft3, \"soft3\", T)\n",
    "print_reward(\"blue\", soft4, \"soft4\", T)\n",
    "print_reward(\"pink\", soft5, \"soft5\", T)\n"
   ]
  },
  {
   "cell_type": "markdown",
   "metadata": {},
   "source": [
    "#### UCB (upper confidence bound)\n",
    "For each moment $t$ agent defines the most potentially profitable actions. Agent choice of $a \\in A_t$ in accordance with following rule\n",
    "$$\\mathcal{A}_t = \\arg\\max Q_t(a) + \\varepsilon \\sqrt{\\frac{2 \\ln t}{c_t(a)}},\\ \\varepsilon \\geq 0$$\n",
    "\n",
    "The first part is well known, but the second summand is measure of how accurate agent estimates $Q_t(a)$ at this moment. The policy itself balances between exploration and exploitation. This policy can be considired as optimal in some sense, more inforamtion [here](http://homes.di.unimi.it/~cesabian/Pubblicazioni/ml-02.pdf).\n",
    "\n",
    "#### Exercises\n",
    "1. Implement policy.\n",
    "2. What happens if $\\varepsilon \\rightarrow 0$? What about $\\varepsilon \\rightarrow \\infty$?\n",
    "3. Compare this policy with softmax and $\\varepsilon$-greedy policy."
   ]
  },
  {
   "cell_type": "code",
   "execution_count": 216,
   "metadata": {},
   "outputs": [],
   "source": [
    "def ucb(expects_A, A, T):\n",
    "    policy = np.ones((100))\n",
    "    real_reward = np.ones((1000)) #столько же, сколько шагов, номер автомата, количество прибыли\n",
    "    awer_reward = np.zeros((100)) #размер прибыли, количество использований\n",
    "    reward_a = np.zeros((100))\n",
    "    num_use = np.zeros((100))\n",
    "\n",
    "    \n",
    "    eps = 0.5\n",
    "    for i in range(1, T):\n",
    "        if T >= 100:\n",
    "            eps *= 1000\n",
    "        cur_a = np.argmax(policy)\n",
    "        real_reward[i] = random.normalvariate(expects_A[cur_a], 1)\n",
    "        reward_a[cur_a] += real_reward[i]\n",
    "        num_use[cur_a] += 1\n",
    "\n",
    "        for i in range(100):\n",
    "            if num_use[i] != 0:\n",
    "                awer_reward[i] = reward_a[i]/num_use[i] + eps * match.sqrt(2 * match.log(i)/num_use[i])\n",
    "\n",
    "        A_t = ind_max(awer_reward)\n",
    "        for i in range(100):\n",
    "            policy[i] = match.exp(1/eps * awer_reward[i])\n",
    "            den = 0\n",
    "            for j in range(100):\n",
    "                den += (match.exp(1/eps)* awer_reward[j])\n",
    "            policy[i] /= den"
   ]
  },
  {
   "cell_type": "code",
   "execution_count": 217,
   "metadata": {},
   "outputs": [
    {
     "ename": "ValueError",
     "evalue": "math domain error",
     "output_type": "error",
     "traceback": [
      "\u001b[0;31m---------------------------------------------------------------------------\u001b[0m",
      "\u001b[0;31mValueError\u001b[0m                                Traceback (most recent call last)",
      "\u001b[0;32m<ipython-input-217-fe6c772c5216>\u001b[0m in \u001b[0;36m<module>\u001b[0;34m\u001b[0m\n\u001b[0;32m----> 1\u001b[0;31m \u001b[0mucb1\u001b[0m \u001b[0;34m=\u001b[0m \u001b[0mucb\u001b[0m\u001b[0;34m(\u001b[0m\u001b[0mexpects_A1\u001b[0m\u001b[0;34m,\u001b[0m \u001b[0mA\u001b[0m\u001b[0;34m,\u001b[0m \u001b[0mT\u001b[0m\u001b[0;34m)\u001b[0m\u001b[0;34m\u001b[0m\u001b[0;34m\u001b[0m\u001b[0m\n\u001b[0m\u001b[1;32m      2\u001b[0m \u001b[0mucb2\u001b[0m \u001b[0;34m=\u001b[0m \u001b[0mucb\u001b[0m\u001b[0;34m(\u001b[0m\u001b[0mexpects_A1\u001b[0m\u001b[0;34m,\u001b[0m \u001b[0mA\u001b[0m\u001b[0;34m,\u001b[0m \u001b[0mT\u001b[0m\u001b[0;34m)\u001b[0m\u001b[0;34m\u001b[0m\u001b[0;34m\u001b[0m\u001b[0m\n\u001b[1;32m      3\u001b[0m \u001b[0mucb3\u001b[0m \u001b[0;34m=\u001b[0m \u001b[0mucb\u001b[0m\u001b[0;34m(\u001b[0m\u001b[0mexpects_A1\u001b[0m\u001b[0;34m,\u001b[0m \u001b[0mA\u001b[0m\u001b[0;34m,\u001b[0m \u001b[0mT\u001b[0m\u001b[0;34m)\u001b[0m\u001b[0;34m\u001b[0m\u001b[0;34m\u001b[0m\u001b[0m\n\u001b[1;32m      4\u001b[0m \u001b[0mucb4\u001b[0m \u001b[0;34m=\u001b[0m \u001b[0mucb\u001b[0m\u001b[0;34m(\u001b[0m\u001b[0mexpects_A1\u001b[0m\u001b[0;34m,\u001b[0m \u001b[0mA\u001b[0m\u001b[0;34m,\u001b[0m \u001b[0mT\u001b[0m\u001b[0;34m)\u001b[0m\u001b[0;34m\u001b[0m\u001b[0;34m\u001b[0m\u001b[0m\n\u001b[1;32m      5\u001b[0m \u001b[0mucb5\u001b[0m \u001b[0;34m=\u001b[0m \u001b[0mucb\u001b[0m\u001b[0;34m(\u001b[0m\u001b[0mexpects_A1\u001b[0m\u001b[0;34m,\u001b[0m \u001b[0mA\u001b[0m\u001b[0;34m,\u001b[0m \u001b[0mT\u001b[0m\u001b[0;34m)\u001b[0m\u001b[0;34m\u001b[0m\u001b[0;34m\u001b[0m\u001b[0m\n",
      "\u001b[0;32m<ipython-input-216-a999a1cd9329>\u001b[0m in \u001b[0;36mucb\u001b[0;34m(expects_A, A, T)\u001b[0m\n\u001b[1;32m     18\u001b[0m         \u001b[0;32mfor\u001b[0m \u001b[0mi\u001b[0m \u001b[0;32min\u001b[0m \u001b[0mrange\u001b[0m\u001b[0;34m(\u001b[0m\u001b[0;36m100\u001b[0m\u001b[0;34m)\u001b[0m\u001b[0;34m:\u001b[0m\u001b[0;34m\u001b[0m\u001b[0;34m\u001b[0m\u001b[0m\n\u001b[1;32m     19\u001b[0m             \u001b[0;32mif\u001b[0m \u001b[0mnum_use\u001b[0m\u001b[0;34m[\u001b[0m\u001b[0mi\u001b[0m\u001b[0;34m]\u001b[0m \u001b[0;34m!=\u001b[0m \u001b[0;36m0\u001b[0m\u001b[0;34m:\u001b[0m\u001b[0;34m\u001b[0m\u001b[0;34m\u001b[0m\u001b[0m\n\u001b[0;32m---> 20\u001b[0;31m                 \u001b[0mawer_reward\u001b[0m\u001b[0;34m[\u001b[0m\u001b[0mi\u001b[0m\u001b[0;34m]\u001b[0m \u001b[0;34m=\u001b[0m \u001b[0mreward_a\u001b[0m\u001b[0;34m[\u001b[0m\u001b[0mi\u001b[0m\u001b[0;34m]\u001b[0m\u001b[0;34m/\u001b[0m\u001b[0mnum_use\u001b[0m\u001b[0;34m[\u001b[0m\u001b[0mi\u001b[0m\u001b[0;34m]\u001b[0m \u001b[0;34m+\u001b[0m \u001b[0meps\u001b[0m \u001b[0;34m*\u001b[0m \u001b[0mmatch\u001b[0m\u001b[0;34m.\u001b[0m\u001b[0msqrt\u001b[0m\u001b[0;34m(\u001b[0m\u001b[0;36m2\u001b[0m \u001b[0;34m*\u001b[0m \u001b[0mmatch\u001b[0m\u001b[0;34m.\u001b[0m\u001b[0mlog\u001b[0m\u001b[0;34m(\u001b[0m\u001b[0mi\u001b[0m\u001b[0;34m)\u001b[0m\u001b[0;34m/\u001b[0m\u001b[0mnum_use\u001b[0m\u001b[0;34m[\u001b[0m\u001b[0mi\u001b[0m\u001b[0;34m]\u001b[0m\u001b[0;34m)\u001b[0m\u001b[0;34m\u001b[0m\u001b[0;34m\u001b[0m\u001b[0m\n\u001b[0m\u001b[1;32m     21\u001b[0m \u001b[0;34m\u001b[0m\u001b[0m\n\u001b[1;32m     22\u001b[0m         \u001b[0mA_t\u001b[0m \u001b[0;34m=\u001b[0m \u001b[0mind_max\u001b[0m\u001b[0;34m(\u001b[0m\u001b[0mawer_reward\u001b[0m\u001b[0;34m)\u001b[0m\u001b[0;34m\u001b[0m\u001b[0;34m\u001b[0m\u001b[0m\n",
      "\u001b[0;31mValueError\u001b[0m: math domain error"
     ]
    }
   ],
   "source": [
    "ucb1 = ucb(expects_A1, A, T)\n",
    "ucb2 = ucb(expects_A1, A, T)\n",
    "ucb3 = ucb(expects_A1, A, T)\n",
    "ucb4 = ucb(expects_A1, A, T)\n",
    "ucb5 = ucb(expects_A1, A, T)"
   ]
  },
  {
   "cell_type": "markdown",
   "metadata": {},
   "source": [
    "#### Gradient policy\n",
    "There are also adaptive policy. They can be used, if the environment is not stationary (the distribution of rewards may slowly change). In this case, it is proposed to use the already familiar exponential smoothing\n",
    "We find smoothed average reward at moment $t$ for all actions:\n",
    "$$\\bar{r}_{t+1} = (1-\\alpha_t)\\cdot\\bar{r}_t+\\alpha_t r_{t+1}(a) = \\bar{r}_t +\\alpha_t (r_{t+1}(a)-\\bar{r}_t),\\ \\alpha_t \\in [0, 1].$$\n",
    "\n",
    "**Hint** Сonvergence condition\n",
    "* $\\sum^{\\infty} \\alpha_t = \\infty$\n",
    "* $\\sum^{\\infty} \\alpha^2_t < \\infty$\n",
    "\n",
    "By the way, if $\\alpha_t = \\frac{1}{t}$, then $\\bar{r}_{t+1}$ is just average of all $r_t$.\n",
    "\n",
    "For each action we have some priority $p_t(a)$. After each step we make following update\n",
    "$$p_{t+1}(a) = p_t(a)+\\lambda(r_t-\\bar{r}_t)(1-\\pi_t(a)), \\text{ $a$ is choosen,}$$\n",
    "\n",
    "$$p_{t+1}(a) = p_t(a)-\\lambda(r_t-\\bar{r}_t)\\pi_t(a), \\text{ another case.}$$\n",
    "\n",
    "So policy $\\pi_{t+1}$ looks like:\n",
    "$$\\pi_{t+1}(a) = \\frac{\\exp(p_{t+1}(a))}{\\sum_{b} \\exp(p_{t+1}(b))}$$\n",
    "More details about this method you can find in the book.\n",
    "\n",
    "#### Exercise\n",
    "1. Implement policy.\n",
    "2. In conclusion, try to understand which model is better for our problem."
   ]
  },
  {
   "cell_type": "code",
   "execution_count": 22,
   "metadata": {},
   "outputs": [],
   "source": [
    "import math"
   ]
  },
  {
   "cell_type": "code",
   "execution_count": 300,
   "metadata": {},
   "outputs": [],
   "source": [
    "def random_max(arr):\n",
    "    max_arr = np.argmax(arr)\n",
    "    maxs = np.array([])\n",
    "    n = 0\n",
    "    for i in range(arr.shape[0]):\n",
    "        n += 1\n",
    "        if arr[i] == arr[max_arr]:\n",
    "            maxs = np.append(maxs, np.array(i))\n",
    "\n",
    "    ind = random.randint(0, maxs.shape[0] - 1)\n",
    "    return maxs[ind]"
   ]
  },
  {
   "cell_type": "code",
   "execution_count": 301,
   "metadata": {},
   "outputs": [],
   "source": [
    "def grad(expects_A, A, T):\n",
    "    policy = np.ones((A))\n",
    "    real_reward = np.ones((T)) #столько же, сколько шагов, номер автомата, количество прибыли\n",
    "    awer_reward = np.zeros((A)) #размер прибыли, количество использований\n",
    "    reward_a = np.zeros((A))\n",
    "    num_use = np.zeros((A))\n",
    "    r = np.ones((T))\n",
    "    p = np.ones((A)) #p_t\n",
    "\n",
    "    for i in range(1, T):\n",
    "        a = 1/(2 * i)\n",
    "        cur_a = int(random_max(policy))\n",
    "        real_reward[i] = random.normalvariate(expects_A[cur_a], 1) #прибыль из нормального распределения\n",
    "        if (i > 0):\n",
    "            r[i] = (1 - a) * r[i - 1] + a * real_reward[i]\n",
    "        lam = 1\n",
    "        p[cur_a] += lam * (real_reward[i - 1] - r[i - 1]) * (1 - policy[cur_a])\n",
    "        \n",
    "        for j in range(A):\n",
    "            if j != cur_a:\n",
    "                p[j] -= lam * (real_reward[j - 1] - r[j - 1]) * policy[j]\n",
    "            \n",
    "        reward_a[cur_a] += r[i]\n",
    "        num_use[cur_a] += 1\n",
    "\n",
    "        A_t = ind_max(awer_reward)\n",
    "        policy = np.exp(p)\n",
    "        policy /= np.sum(policy)\n",
    "    return real_reward"
   ]
  },
  {
   "cell_type": "code",
   "execution_count": 302,
   "metadata": {},
   "outputs": [],
   "source": [
    "expects_A, A, T = made_A()\n",
    "T = 1000\n",
    "grad_reward = grad(expects_A, A, T)"
   ]
  },
  {
   "cell_type": "code",
   "execution_count": 304,
   "metadata": {},
   "outputs": [
    {
     "name": "stdout",
     "output_type": "stream",
     "text": [
      "reward:  943.2316350186094\n"
     ]
    },
    {
     "data": {
      "image/png": "[encoded data removed]",
      "text/plain": [
       "<Figure size 432x288 with 1 Axes>"
      ]
     },
     "metadata": {
      "needs_background": "light"
     },
     "output_type": "display_data"
    }
   ],
   "source": [
    "print_reward(\"#A5CC33\", grad_reward, \"gradient policy\", T)"
   ]
  },
  {
   "cell_type": "code",
   "execution_count": 305,
   "metadata": {},
   "outputs": [
    {
     "name": "stdout",
     "output_type": "stream",
     "text": [
      "reward:  1115.1123264144358\n"
     ]
    },
    {
     "data": {
      "image/png": "[encoded data removed]",
      "text/plain": [
       "<Figure size 432x288 with 1 Axes>"
      ]
     },
     "metadata": {
      "needs_background": "light"
     },
     "output_type": "display_data"
    }
   ],
   "source": [
    "sum_grad_reward = np.zeros((1000))\n",
    "n = 100\n",
    "\n",
    "for i in range(n):\n",
    "    expects_A1, A, T = made_A()\n",
    "    T = 1000\n",
    "    grad_cur = grad(expects_A1, A, T)\n",
    "    sum_grad_reward += grad_cur\n",
    "\n",
    "sum_grad_reward /= n\n",
    "print_reward(\"#8000FF\", sum_grad_reward, \"grad\", T)"
   ]
  },
  {
   "cell_type": "markdown",
   "metadata": {
    "collapsed": true
   },
   "source": [
    "### 2. Markov decison process\n",
    "#### Problem statement\n",
    "Now agent acts in some environment with finite set of states $\\mathcal{S}$. At moment $t$ agent at state $s_t$ can choose action $a_t \\in \\mathcal{A}_{s_t} \\subset \\mathcal{A}$. After agent's action, environment moves it to state $s_{t+1}$ and give reward $r_{t+1}$. Environment behaviour is defined with\n",
    "$$p(s_{t+1}, r_{t+1}|s_t, a_t)  = \\Pr\\{ S_{t+1} = s_{t+1}, R_{t+1} =  r_{t+1} | S_t = s_t, A_t = a_t\\}.$$\n",
    "\n",
    "Agent has some policy $\\pi$, which at moment $t$ defines probabilty of action $a_t \\in \\mathcal{A}_{s_t}$ for state $s_t$ $\\pi_t(a_t|s_t) = p(a_t|s_t)$. Informally agent needs to maximize the total reward. If the decision process is finite, the problem is formalized as maximizing\n",
    "$$G = \\sum_{t=0}^{T} R_{t+1},$$\n",
    "here $T$ – moment of time, when agent achives final state. We will consider this value as a random. If the process can last very long or infinite time than we have dealing with a discounted reward\n",
    "$$ G_t = \\sum_{k=0}^{\\infty} \\gamma^{k} R_{t+k+1},$$\n",
    "here $\\gamma \\in [0, 1]$ defines how deep we look into the future.\n",
    "\n",
    "The probability that the process moves into its new state is influenced by the chosen action. Specifically, it is given by the state transition function. Thus, the next state  depends on the current state and the decision maker's action. But given state and action, it is conditionally independent of all previous states and actions, in other words, the state transitions of an MDP satisfies the Markov property.\n",
    "\n",
    "#### Exercises\n",
    "1. Give life example of Markov decision process (it may be any game, etc.).\n",
    "2. Can you give an example where a decision can't be modeled with a Markov process?\n",
    "3. Using $p(s_{t+1}, r_{t+1}|s_t, a_t)$, find values below (all distribution are discrete):\n",
    "  * $r(s_{t}, a_{t}) = \\mathbb{E}[R_{t+1}|S_t = s_t, A_t = a_t]$ – average reward for action $a_t$ in state $s_t$ \n",
    "  * $p(s_{t+1} | s_t, a_t) = \\Pr\\{S_{t+1} = s_{t+1} | S_t = s_t, A_t = a_t \\}$ – probability to move from $s_t$ to $s_{t+1}$, making $a_t$.\n",
    "  * $r(s_t, a_t, s_{t+1}) = \\mathbb{E}[R_{t+1}|S_{t+1} = s_{t+1}, S_t = s_t, A_t = a_t]$ – average reward when moving from $s_t$ to $s_{t+1}$, making $a_t$."
   ]
  },
  {
   "attachments": {
    "image.png": {
     "image/png": "[encoded data removed]"
    }
   },
   "cell_type": "markdown",
   "metadata": {},
   "source": [
    "![image.png](attachment:image.png)"
   ]
  },
  {
   "attachments": {
    "image.png": {
     "image/png": "[encoded data removed]"
    }
   },
   "cell_type": "markdown",
   "metadata": {},
   "source": [
    "![image.png](attachment:image.png)"
   ]
  },
  {
   "attachments": {
    "image.png": {
     "image/png": "[encoded data removed]"
    }
   },
   "cell_type": "markdown",
   "metadata": {},
   "source": [
    "![image.png](attachment:image.png)"
   ]
  },
  {
   "cell_type": "markdown",
   "metadata": {},
   "source": [
    "#### Main definitions \n",
    "State-value function under the strategy of $\\pi$ returns for state $s$ total reward, that agent gets, starting from $s$\n",
    "$$V^\\pi(s) = \\mathbb{E}[G_t|S_t=s] = \\mathbb{E}\\Big[\\sum_{k=0}^{\\infty} \\gamma^{k+1}R_{t+k+1}|S_t=s\\Big].$$\n",
    "\n",
    "Action-value function under the strategy $\\pi$ for action $a$ and state $s$ returns total reward that agent gets, starting from $s$ and making $a$\n",
    "$$Q^\\pi(s, a) = \\mathbb{E}[G_t|S_t=s, A_t=a] = \\mathbb{E}\\Big[\\sum_{k=0}^{\\infty} \\gamma^{k+1}R_{t+k+1}|S_t=s,  A_t=a\\Big].$$\n",
    "\n",
    "Thus we have following equations (the first two are Bellman equations):\n",
    "\n",
    "$$V^{\\pi}(s) = \\mathbb{E}\\big[R_{t+1} + \\gamma V^{\\pi}(S_{t+1}) | S_t=s\\big]$$\n",
    "\n",
    "$$Q^{\\pi}(s, a) = \\mathbb{E}\\big[R_{t+1} + \\gamma Q^{\\pi}(S_{t+1}, A_{t+1}) | S_t=s, A_t=a\\big]$$\n",
    "\n",
    "$$Q^{\\pi}(s, a) = \\mathbb{E}\\big[R_{t+1} + \\gamma V^{\\pi}(S_{t+1}) | S_t=s, A_t=a\\big]$$\n",
    "\n",
    "#### Remark\n",
    "It is important to note that policy $\\pi$ is fixed and doesn't change with time. Although in real practice it is not true, because our strategy is constantly updating when agent learns environment.\n",
    "Policy $\\pi^{*}$ is optimal, if for each state $s$ and any other policy $\\pi$ it is true that $V_{\\pi^{*}}(s) \\geq V_{\\pi}(s)$. Posibly, there are several different optimal policies, however functions $V(s)$ and $Q(s, a)$, which they defines are the same. So, we denote these functions $V^*(s)$ и $Q^*(s, a)$ as optimal.\n",
    "\n",
    "Equations below are Bellman optimality equations (more info [here](https://en.wikipedia.org/wiki/Bellman_equation):\n",
    "$$V^*(s) = \\max_{a \\in \\mathcal{A}} \\mathbb{E}\\big[R_{t+1} + \\gamma V^*(S_{t+1}) | S_t=s, A_t=a\\big]$$\n",
    "$$Q^*(s, a) = \\mathbb{E}\\big[R_{t+1} + \\gamma \\max_{b \\in \\mathcal{A}} Q^*(S_{t+1}, b) | S_t=s, A_t=a\\big]$$\n",
    "\n",
    "Then the following two greedy strategies are equivalent and optimal ($\\mathcal{A}_t$ – set):\n",
    "$$\\mathcal{A}_t = \\arg\\max_{a \\in \\mathcal{A}} \\mathbb{E}\\big[R_{t+1} + \\gamma V^*(s_{t+1}) | s_t, a \\big]$$\n",
    "$$\\mathcal{A}_t = \\arg\\max_{a \\in \\mathcal{A}} Q^*(s_t, a)$$\n",
    "\n",
    "#### Dynamic programming\n",
    "This part is based on the fact, that $p(s',r|s,a)$ is known.\n",
    "\n",
    "#### Iterative policy evaluation\n",
    "Let agent has some fixed policy $\\pi$, then for $V^{\\pi}$ we have\n",
    "$$V^{\\pi}(s) = \\sum_a \\pi(a|s) \\sum_{s',r} p(s',r|s,a) \\big[r + \\gamma V^{\\pi}(s') \\big]$$\n",
    "\n",
    "For simplicity we assume that the distribution of rewards is discrete random variable. Otherwise, it is necessary to use operator of integration instead of sum. For each state $s$ we can can evaluate $V^{\\pi}$, using iterative algorithm ($V_0$ is initialized randomly)\n",
    "$$V_{n+1}(s) = \\sum_a \\pi(a|s) \\sum_{s',r} p(s',r|s,a) \\big[r + \\gamma V_n(s') \\big].$$\n",
    "\n",
    "By the way, if $s$ is a final state, then $V(s)$ is already known and we may use this value as initialization for faster convergence. The computation stops when $V(s)$ varies negligible from iteration to iteration.\n",
    "\n",
    "#### Remarks\n",
    "1. We make assumption that $p(s',r|s,a)$ is known, but it's often not truth in practice.\n",
    "2. Compution of $V_{n+1}$ can be done **in place**, it accelerates convergence, since in the process of computation we will use the values from iteration $n$ and some new values from iteration $n+1$.\n",
    "\n",
    "#### Policy improvement theorem\n",
    "Suppose there are policies $\\pi$ and $\\pi'$, and for each state $s$ we have\n",
    "$$Q^{\\pi}(s, \\pi'(s)) \\geq V^{\\pi}(s),$$\n",
    "then the following inequality holds\n",
    "$$V^{\\pi'}(s) \\geq V^{\\pi}(s).$$\n",
    "\n",
    "The main interest of this theorem is that it allows us to improve the current policy. We know how to calculate $V^{\\pi}(s)$, so\n",
    "\n",
    "$$\n",
    "Q^{\\pi}(s, a) =\n",
    "\\mathbb{E}\\big[R_{t+1} + \\gamma V^{\\pi}(S_{t+1}) | S_t=s, A_t=a\\big] =\n",
    "\\sum_{s',r}p(s',r|s, a)\\big[ r + \\gamma V^{\\pi}(s') \\big]\n",
    "$$\n",
    "\n",
    "In this way we can improve our policy\n",
    "$$\\pi'(a) = \\arg\\max_a Q^{\\pi}(s, a).$$\n",
    "The writing above means, that policy chooses action uniformly among all optimal actions. If we can't improve $V^{\\pi}$, then out state-value function is optimal and satisfies the equation the Bellman equation. So, policy, which defines this policy, is also optimal.\n",
    "\n",
    "#### Policy interation\n",
    "Performing alternately calculation of $V^{\\pi}$ and improving $\\pi$, we can find optimal policy $\\pi^*$. It should be noted that as initialization values of $V(s)$ you may use state-value function from previous iteration, it helps significantly speeds up the convergence of the algorithm.\n",
    "\n",
    "#### Value interation\n",
    "There is also interesting approach to compute $V^{*}(s)$ of optimal strategy $\\pi^{*}$\n",
    "$$V_{n+1}(s) = \\max_a \\sum_{s',r} p(s',r|s,a) \\big[r + \\gamma V_n(s') \\big].$$\n",
    "\n",
    "You may understand this method in the following way. On the one hand we in greedy manner update state value function during each iteration of value function evaluation. On the other hand we use Bellman equation to evaluate $V^{*}$ iteratively. It's rather practical method.\n",
    "\n",
    "#### Exercises\n",
    "1. Let you environment have 100 states. The distribution function $p(s',r|s,a)$ may be defined by your own.\n",
    "2. Fix some discount value and find optimal policy.\n",
    "3. What method is faster? For any state $s$, check how $V^*(s)$ varies during $\\gamma$ changing.\n",
    "4. Plot $\\gamma \\times V^*(s)$ for some 5 states."
   ]
  },
  {
   "cell_type": "code",
   "execution_count": 2,
   "metadata": {},
   "outputs": [],
   "source": [
    "import random"
   ]
  },
  {
   "cell_type": "code",
   "execution_count": 21,
   "metadata": {},
   "outputs": [],
   "source": [
    "\n",
    "            \n",
    "\n",
    "def game(T,size, A, B):\n",
    "    reward = 0\n",
    "    cur_place = np.array([random.randint(0, size - 1), random.randint(0, size - 1)])\n",
    "    print(cur_place)\n",
    "    for t in range(T):\n",
    "        \n",
    "        if (cur_place.all == A.all):\n",
    "            reward += 5\n",
    "            print(reward)\n",
    "            cur_place = np.array([random.randint(0, size - 1), random.randint(0, size - 1)])\n",
    "        elif (cur_place.all == B.all):\n",
    "            reward += 10\n",
    "            print(reward)\n",
    "\n",
    "            cur_place = np.array([random.randint(0, size - 1), random.randint(0, size - 1)])\n",
    "        else:\n",
    "            step = random.randint(1, 4)\n",
    "            i = cur_place[0]\n",
    "            j = cur_place[1]\n",
    "            if (i == 0 and step == 1) or (i == size - 1 and step == 3) or (j == 0 and step == 4) or (j == size - 1 and step == 2):\n",
    "                    reward -= 1\n",
    "                    print(reward)\n",
    "            else:\n",
    "                print(cur_place)\n",
    "                if step == 1:\n",
    "                    cur_place[0] -= 1\n",
    "                elif step == 2:\n",
    "                    cur_place[1] += 1\n",
    "                elif step == 3:\n",
    "                    cur_place[0] -= 1\n",
    "                else:\n",
    "                    cur_place[1] -= 1\n",
    "    \n",
    "    return reward\n",
    "            \n",
    "    \n"
   ]
  },
  {
   "cell_type": "code",
   "execution_count": 22,
   "metadata": {},
   "outputs": [
    {
     "name": "stdout",
     "output_type": "stream",
     "text": [
      "[6 1]\n",
      "[6 1]\n",
      "[5 1]\n",
      "[5 2]\n",
      "[4 2]\n",
      "[4 3]\n",
      "[4 2]\n",
      "[4 3]\n",
      "[3 3]\n",
      "[3 2]\n",
      "[3 1]\n",
      "[2 1]\n",
      "[2 2]\n",
      "[2 1]\n",
      "[1 1]\n",
      "[1 2]\n",
      "-1\n",
      "[0 2]\n",
      "[0 3]\n",
      "-2\n",
      "-3\n",
      "-4\n",
      "[0 4]\n",
      "[0 5]\n",
      "[0 4]\n",
      "[-1  4]\n",
      "[-1  3]\n",
      "[-1  2]\n",
      "[-2  2]\n",
      "[-2  3]\n",
      "[-3  3]\n",
      "[-4  3]\n",
      "[-4  2]\n",
      "[-5  2]\n",
      "[-6  2]\n",
      "[-7  2]\n",
      "[-8  2]\n",
      "[-9  2]\n",
      "[-10   2]\n",
      "[-11   2]\n",
      "[-12   2]\n",
      "[-12   3]\n",
      "[-12   2]\n",
      "[-13   2]\n",
      "[-14   2]\n",
      "[-14   1]\n",
      "[-15   1]\n",
      "[-15   2]\n",
      "[-16   2]\n",
      "[-16   1]\n",
      "[-17   1]\n",
      "[-17   0]\n",
      "[-18   0]\n",
      "-5\n",
      "[-19   0]\n",
      "-6\n",
      "[-20   0]\n",
      "[-21   0]\n",
      "[-22   0]\n",
      "-7\n",
      "[-23   0]\n",
      "[-24   0]\n",
      "[-25   0]\n",
      "[-25   1]\n",
      "[-25   2]\n",
      "[-25   3]\n",
      "[-25   4]\n",
      "[-25   3]\n",
      "[-26   3]\n",
      "[-26   4]\n",
      "[-26   5]\n",
      "[-27   5]\n",
      "[-28   5]\n",
      "[-29   5]\n",
      "[-30   5]\n",
      "[-30   4]\n",
      "[-30   3]\n",
      "[-31   3]\n",
      "[-31   2]\n",
      "[-32   2]\n",
      "[-33   2]\n",
      "[-33   3]\n",
      "[-33   2]\n",
      "[-34   2]\n",
      "[-34   1]\n",
      "[-35   1]\n",
      "[-36   1]\n",
      "[-37   1]\n",
      "[-38   1]\n",
      "[-39   1]\n",
      "[-40   1]\n",
      "[-41   1]\n",
      "[-41   2]\n",
      "[-42   2]\n",
      "[-43   2]\n",
      "[-44   2]\n",
      "[-45   2]\n",
      "[-46   2]\n",
      "[-47   2]\n",
      "[-48   2]\n",
      "[-48   1]\n",
      "reward of randomchoise is  -7\n"
     ]
    }
   ],
   "source": [
    "A = np.array([63, 36])   #выгодная клетка, дает +5\n",
    "B = np.array([36, 63])   #выгодная клетка, дает +10\n",
    "\n",
    "#  1\n",
    "# 4x2\n",
    "#  3\n",
    "\n",
    "T = 100\n",
    "size = 10\n",
    "\n",
    "print(\"reward of randomchoise is \", game(T, size, A, B))"
   ]
  },
  {
   "cell_type": "markdown",
   "metadata": {
    "collapsed": true
   },
   "source": [
    "### 3. Model problem\n",
    "As a model problem we choose tic-tac-toe game. One agent plays against another, so environament for each player is its opponent. The set of states $\\mathcal{S}_{X}$ is all possible positions of tic-tac-toe game for Xs and the set $\\mathcal{S}_{O}$ defined in the same way for Os. You need to train both agents during some series of games where they play with each other. The criterion of success – both agent don't lose human."
   ]
  },
  {
   "cell_type": "markdown",
   "metadata": {},
   "source": [
    "### 4. Temporal difference\n",
    "The speech will focus on more practical methods. Let imagine that we evaluate $V^{\\pi}(s)$ for our policy $\\pi$. Our agent visited state $s_t$ and we know total reward $G_t$. When agent visites the state $s_t$, we can improve estimation of $V^{\\pi}$ using exponential smoothing\n",
    "$$V^{\\pi}_{n+1}(s_t) = V_{n}^{\\pi}(s_t) + \\alpha \\big(G_t - V_{n}^{\\pi}(s_t)\\big).$$\n",
    "\n",
    "However, you can make some trick and rewrite $G_t$\n",
    "$$V_{n+1}^{\\pi}(s_t) = V_{n}^{\\pi}(s_t) + \\alpha \\big(R_t + \\gamma V^{\\pi}(S_{t+1}) - V_{n}^{\\pi}(s_t)\\big),$$\n",
    "so we can update $V^{\\pi}(s_t)$ after each visiting $s_t$. Similarly, we can compute\n",
    "$$Q_{n+1}(s_t, a_t) = Q_{n}(s_t, a_t) + \\alpha \\big(R_{t+1} + \\gamma Q^{\\pi}(S_{t+1}, A_{t+1}) - Q_{n}^{\\pi}(s_t, a_t)\\big).$$\n",
    "\n",
    "#### SARSA (State-Action-Reward-State-Action)\n",
    "So, we want to find optimal policy $\\pi^{*}$. Let's suppose we have some initial approximation $Q(s, a)$. We use нее $\\varepsilon$-greedy policy $\\mathcal{A}_s = \\arg\\max_{a \\in \\mathcal{A}} Q(s, a)$. \n",
    "\n",
    "$$\\pi(a|s)=\\frac{1-\\varepsilon}{|\\mathcal{A}_s|}[a \\in \\mathcal{A}_s] + \\frac{\\varepsilon}{|\\mathcal{A}|},\\ \\varepsilon \\in [0, 1].$$\n",
    "\n",
    "In accordance with policy $\\pi$ we choose $a_t$ and get reward $R_{t+1}$, after that environment move agent to state $S_{t+1}$. Agent one more time choose action $A_{t+1} \\sim \\pi(a|S_{t+1})$ and doesn't act in the environemnt, but only update $Q$ function\n",
    "$$Q(s_t, a_t) = Q(s_t, a_t) + \\alpha \\big(R_{t+1} + \\gamma Q^{\\pi}(S_{t+1}, A_{t+1}) - Q^{\\pi}(s_t, a_t)\\big).$$\n",
    "\n",
    "Also, there is more variation of this idea, that uses expected Q-value.\n",
    "$$Q(s_t, a_t) = Q(s_t, a_t) + \\alpha \\big(R_{t+1} + \\gamma \\sum_b \\pi(b|S_{t+1}) Q^{\\pi}(S_{t+1}, b) - Q^{\\pi}(s_t, a_t)\\big).$$\n",
    "So we use $\\varepsilon$-greedy approach to improve our policy and evaluate.\n",
    "\n",
    "####  Q-learning\n",
    "The idea of this method is rather similar, but we also greedy update action-value function $Q$ \n",
    "$$Q(s_t, a_t) = Q(s_t, a_t) + \\alpha \\big(R_{t+1} + \\gamma \\max_{b} Q(S_{t+1}, b) - Q(s_t, a_t)\\big).$$ For choosing actions during learning agent can use any policy, e.g. $\\varepsilon$-greedy or softmax policy.\n",
    "\n",
    "#### Exercises\n",
    "1. Implement both algorithm for our model problem.\n",
    "2. Which one converges faster? How can you estimate it?\n",
    "3. Compare how action-value function $Q(s_t, a_t)$ differs for these two methods.\n",
    "4. Try to play with your agents...\n",
    "5. Use intentionally losing strategy for Os. What happened?\n",
    "6. Try to beat the agent for Xs."
   ]
  }
 ],
 "metadata": {
  "kernelspec": {
   "display_name": "Python 3",
   "language": "python",
   "name": "python3"
  },
  "language_info": {
   "codemirror_mode": {
    "name": "ipython",
    "version": 3
   },
   "file_extension": ".py",
   "mimetype": "text/x-python",
   "name": "python",
   "nbconvert_exporter": "python",
   "pygments_lexer": "ipython3",
   "version": "3.6.8"
  }
 },
 "nbformat": 4,
 "nbformat_minor": 1
}
