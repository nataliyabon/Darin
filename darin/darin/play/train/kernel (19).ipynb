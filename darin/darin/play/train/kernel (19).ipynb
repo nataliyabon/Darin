{
  "cells": [
    {
      "metadata": {
        "_cell_guid": "b1076dfc-b9ad-4769-8c92-a6c4dae69d19",
        "_uuid": "8f2839f25d086af736a60e9eeb907d3b93b6e0e5",
        "trusted": false
      },
      "cell_type": "code",
      "source": "import torch\nfrom torch import utils\nfrom torchvision import datasets, transforms\nimport matplotlib\nimport matplotlib.pyplot as plt\nfrom torch.autograd import Variable\nimport sys\nsys.path.append('../')\nimport torch.nn as nn\nimport torch.nn.functional as F\nimport torch.optim as optim\nfrom sklearn.model_selection import train_test_split\nfrom sklearn import datasets\nimport numpy as np\n\n%matplotlib inline",
      "execution_count": null,
      "outputs": []
    },
    {
      "metadata": {
        "_cell_guid": "79c7e3d0-c299-4dcb-8224-4455121ee9b0",
        "_uuid": "d629ff2d2480ee46fbb7e2d37f6b5fab8052498a",
        "trusted": false
      },
      "cell_type": "code",
      "source": "def string_to_clicked(s):\n    step = 0\n    clicked = np.zeros((16, 16), dtype = np.int8)\n    game = s.split()\n    \n    if game[0] == 'white':\n        winner = 1\n    elif game == 'unknown':\n        winner = 0\n    else: \n        winner = -1\n        \n    for move in game[1:]:\n        if move[0] > 'p' or move[0] < 'a':\n            winner = 0\n            break\n            \n        cell = -1\n        if (step % 2 == 0):\n                cell = 1\n        x = ord(move[0]) - ord('a') - 1\n        if (move[0] > 'i'):\n            x -= 1\n        y = int(move[1:]) - 1\n        clicked[ord(move[0]) - ord('a') - 1][int(move[1:]) - 1] = cell\n        step += 1\n        \n    return winner, clicked",
      "execution_count": null,
      "outputs": []
    },
    {
      "metadata": {
        "_uuid": "a8b5add3333bfd73033cbe196780a9724b99a0c3",
        "trusted": false
      },
      "cell_type": "code",
      "source": "def make_data(game, data, data_answers):\n    step = 0\n    clicked = np.zeros((16, 16), dtype = np.int8)\n    \n    if game[0] == 'white':\n        winner = 1\n    elif game[0] == 'black':\n        winner = -1\n    else:\n        winner = 0\n    desk = np.zeros((2, 16, 16), dtype = np.int8)\n\n    desk[0] = clicked\n    desk[1] = np.ones((16, 16), dtype = np.int8) * winner\n    data = np.vstack((data, desk.reshape(1, 2, 16, 16)))\n    for move in game[1:- 1]:\n        if winner == 0:\n            contunue\n        cell = -1\n        if (step % 2 == 0):\n                cell = 1\n        clicked[ord(move[0]) - ord('a') - 1][int(move[1:]) - 1] = cell\n        if cell == winner:\n            desk = np.zeros((2, 16, 16), dtype = np.int8)\n            desk[0] = clicked\n            desk[1] = np.ones((16, 16), dtype = np.int8) * winner\n            data = np.vstack((data, desk.reshape(1, 2, 16, 16)))\n            data_answers = np.vstack((data_answers, np.array([ord(move[0]) - ord('a') - 1, int(move[1:]) - 1])))\n        step += 1\n    move = game[len(game) - 1]\n    data_answers = np.vstack((data_answers, np.array([ord(move[0]) - ord('a') - 1, int(move[1:]) - 1])))\n    \n    return data, data_answers",
      "execution_count": null,
      "outputs": []
    },
    {
      "metadata": {
        "_uuid": "d77eb7854c4d7b097ccd07b02b9c1c874ccc9989",
        "trusted": false
      },
      "cell_type": "code",
      "source": "def make_batch(data, data_answers, batch_sz, i):\n    with open(\"../input/ggaammeess/text.txt\") as f:\n        j = 0\n        num_desk = 0\n\n        for line in f:\n            if j < i:\n                continue\n                \n            if batch_sz < num_desk:\n                print(num_desk)\n                break\n\n            if i == 0:\n\n                game = line.split()\n                step = 0\n                clicked = np.zeros((16, 16), dtype = np.int8)\n\n                if game[0] == 'white':\n                    winner = 1\n                elif game[0] == 'black':\n                    winner = -1\n                else: \n                    continue\n\n                desk = np.zeros((2, 16, 16), dtype = np.int8)\n                desk[0] = clicked\n                desk[1] = np.ones((16, 16), dtype = np.int8) * winner\n                data[0] = desk\n\n                num_desk += 1\n                for move in game[1:- 1]:\n                    cell = -1\n                    if (step % 2 == 0):\n                            cell = 1\n                    clicked[ord(move[0]) - ord('a') - 1][int(move[1:]) - 1] = cell\n                    if cell == winner:\n                        desk = np.zeros((2, 16, 16), dtype = np.int8)\n                        desk[0] = clicked\n                        desk[1] = np.ones((16, 16), dtype = np.int8) * winner\n\n                        data = np.vstack((data, desk.reshape(1, 2, 16, 16)))\n                        x = np.array(ord(move[0]) - ord('a') - 1)\n                        y = int(move[1:]) - 1\n                        pos = np.array([x, y])\n                        data_answers = np.vstack((data_answers, pos))\n                        num_desk += 1\n\n                    step += 1\n                move = game[len(game) - 1]\n                data_answers = np.vstack((data_answers, np.array([ord(move[0]) - ord('a') - 1, int(move[1:]) - 1])))\n                data_answers = data_answers[1:]\n\n            else:\n                game = line.split()\n                data, data_answers = make_data(game, data, data_answers)\n\n            j += 1\n            \n    return data, data_answers, j        \n",
      "execution_count": null,
      "outputs": []
    },
    {
      "metadata": {
        "_uuid": "b842d6be9fe06beffbd509f38abe1b572e86a8e4",
        "trusted": false
      },
      "cell_type": "code",
      "source": "data = np.zeros((1, 2, 16, 16), dtype = np.int8)\ndata_answers = np.zeros((1, 2), dtype = np.uint8)\n\nbatch_sz = 50\ni = 0 #количество прочитанных строк\n\ndata, data_answers, i = make_batch(data, data_answers, batch_sz, i)\ndata = data[-batch_sz:]\ndata_answers = data_answers[-batch_sz:]",
      "execution_count": null,
      "outputs": []
    },
    {
      "metadata": {
        "_uuid": "0fff7f70a58fa7525e57982bcf0372e6ad8aac5f",
        "trusted": false
      },
      "cell_type": "code",
      "source": "print(data.shape, data_answers.shape, i)",
      "execution_count": null,
      "outputs": []
    },
    {
      "metadata": {
        "_uuid": "03b7fd8c28df46802e70d155bb87f55bc6b48c21"
      },
      "cell_type": "markdown",
      "source": "data_sz = data.shape[0]\ntest_sz = data_sz // 5\ntrain_sz = data_sz - test_sz\nx_train, x_test, y_train, y_test = train_test_split(data, data_answers, test_size = test_sz)\nprint(x_train.shape, x_test.shape, y_train.shape, y_test.shape)\n"
    },
    {
      "metadata": {
        "_uuid": "69feb0f5507b6f5ce795c889500c6c12875036db",
        "trusted": false
      },
      "cell_type": "code",
      "source": "#переконвертим пару в вектор\ndef sell_to_int(cell):\n    return (15 * cell[0] + cell[1] + 1)",
      "execution_count": null,
      "outputs": []
    },
    {
      "metadata": {
        "_uuid": "d02dd9c0c64834ce6e590736f7ef691e804fc077"
      },
      "cell_type": "markdown",
      "source": "y_train = y_train.astype(np.long)\ny_test = y_test.astype(np.long)\nttrain = torch.zeros(train_sz, dtype = torch.long)\nttest = torch.zeros(test_sz, dtype = torch.long)\nnew_y_train = np.zeros((train_sz), dtype = np.long)\nnew_y_test = np.zeros((test_sz), dtype = np.long)\nfor i in range(train_sz):\n    new_y_train[i] = sell_to_int(y_train[i])\nprint(new_y_train.shape, ttrain.size())\nttrain = torch.from_numpy(new_y_train)\n    \nfor i in range(test_sz):\n    new_y_test[i] = sell_to_int(y_test[i])\nttest = torch.from_numpy(new_y_test)"
    },
    {
      "metadata": {
        "_uuid": "be99be801cbbfa0dd70290ab6807e4362c015c5c"
      },
      "cell_type": "markdown",
      "source": "print(ttrain)"
    },
    {
      "metadata": {
        "_uuid": "d8799629423437ab7489dd175affb93de6f11de4",
        "scrolled": true
      },
      "cell_type": "markdown",
      "source": "x_train = x_train.astype(np.int32)\nx_test = x_test.astype(np.int32)\nx_train = torch.from_numpy(x_train)\nx_test = torch.from_numpy(x_test)\nprint(x_train.size(), x_train[0].size())\n"
    },
    {
      "metadata": {
        "_uuid": "3df358505474f24afa95cd7237e3b79de3184f73",
        "trusted": false
      },
      "cell_type": "code",
      "source": "class CNN(torch.nn.Module):    \n    def __init__(self):\n        super(CNN, self).__init__()\n        #2 * 16 * 16\n        self.conv1 = torch.nn.Conv2d(2, 8, kernel_size=3, stride=1, padding=1)\n        self.conv2 = torch.nn.Conv2d(8, 16, kernel_size=3, stride=1, padding=1)\n        # 16 * 16 * 16\n        self.pool = torch.nn.MaxPool2d(kernel_size=2, stride=2, padding=0)\n        # 16 x 8 x 8\n        self.conv3 = torch.nn.Conv2d(16, 32, kernel_size=3, stride=1, padding=1)\n        # 32 x 8 x 8\n        self.conv4 = torch.nn.Conv2d(32, 64, kernel_size=3, stride=1, padding=1)\n        # 64 * 8 * 8\n        self.conv5 = torch.nn.Conv2d(64, 128, kernel_size=3, stride=1, padding=1)\n        # 128 * 8 * 8\n        #pool\n        # 128 x 4 x 4\n        self.conv6 = torch.nn.Conv2d(128, 256, kernel_size=3, stride=1, padding=1)\n        # 256 x 4 x 4\n        self.fc1 = torch.nn.Linear(256 * 4 * 4, 1024)\n        self.fc2 = torch.nn.Linear(1024, 255)\n        \n    def forward(self, x):\n        x = x.view(-1, 2, 16, 16)\n        x = F.relu(self.conv1(x))\n        x = F.relu(self.conv2(x))\n        x = self.pool(x)\n        x = F.relu(self.conv3(x))\n        x = F.relu(self.conv4(x))\n        x = F.relu(self.conv5(x))\n        x = self.pool(x)\n        x = F.relu(self.conv6(x))\n        x = x.view(-1, 256 * 4 * 4)\n        x = F.relu(self.fc1(x))\n        x = self.fc2(x)\n        return(x)\n    \nmodel = CNN()",
      "execution_count": null,
      "outputs": []
    },
    {
      "metadata": {
        "_uuid": "6db81fe34d249e8043e0c26a3858d9298e530136",
        "trusted": false
      },
      "cell_type": "code",
      "source": "l1_lmbd = 0.15\nl2_lmbd = 0.25\ndef li_loss(layer, i):\n    return torch.norm(layer.weight.data, p=i)",
      "execution_count": null,
      "outputs": []
    },
    {
      "metadata": {
        "_uuid": "4b9dcccd90985e1069d9cafad714684de0ce93d0",
        "trusted": false
      },
      "cell_type": "code",
      "source": "def data_train_to_torch(data, data_answers, batch_sz):\n    train_sz = batch_sz\n    data_sz = data.shape[0]\n    test_sz = 0\n    train_sz = data_sz - test_sz\n    x_train, x_test, y_train, y_test = train_test_split(data, data_answers, test_size = test_sz)\n    \n    y_train = y_train.astype(np.long)\n    ttrain = torch.zeros(train_sz, dtype = torch.long)\n    new_y_train = np.zeros((train_sz), dtype = np.long)\n    for i in range(train_sz):\n        new_y_train[i] = sell_to_int(y_train[i])\n    ttrain = torch.from_numpy(new_y_train)\n\n    x_train = x_train.astype(np.float64)\n    x_train = torch.DoubleTensor(x_train)\n    \n    return ttrain, x_train",
      "execution_count": null,
      "outputs": []
    },
    {
      "metadata": {
        "_uuid": "41d02c66aa0b15a29f5ce4ec34b0d9eb7ba4c200",
        "trusted": false
      },
      "cell_type": "code",
      "source": "\ndef train(model, epoch, data, data_answers, batch_sz, i):\n    loss = 0\n    now = 0\n    \n    #будем формировать батчи на ходу, как и выбирать train_sz\n    train_sz = 300000\n    for j in range(train_sz // batch_sz):\n        #формируем не просто трейн, а сразу батч\n        data, data_answers, i = make_batch(data, data_answers, batch_sz, i)\n        i += 1 #начинаем для следующей строки\n        data = data[-batch_sz:]\n        data_answers = data_answers[-batch_sz:]\n        tdata, data_b = data_train_to_torch(data, data_answers, batch_sz)\n        \n        optimizer.zero_grad()\n        data_b = data_b.cuda().float()\n        tdata = tdata.cuda().long()\n        output = model(data_b)\n        loss = F.cross_entropy(output, tdata)\n        #print(loss.data.item())\n        loss += l1_lmbd * li_loss(model.fc1, 1) \\\n        +  l1_lmbd * li_loss(model.fc2, 1) +  l2_lmbd * li_loss(model.fc1, 2) +  l2_lmbd * li_loss(model.fc2, 2)\n        #loss = F.cross_entropy(output, target)\n        loss.backward()\n        optimizer.step()\n        now += batch_sz\n        if j % 200 == 0:\n            print('Train Epoch: {} [{}/{} ({:.0f}%)]\\tLoss: {:.6f}'.format(\n                epoch, now, train_sz,\n                100. * now / train_sz, loss.data.item()))\n",
      "execution_count": null,
      "outputs": []
    },
    {
      "metadata": {
        "_uuid": "36994f6e029302acab7d0e1ac1718d84893613a2",
        "trusted": false
      },
      "cell_type": "code",
      "source": "device = torch.device(\"cuda:0\" if torch.cuda.is_available() else \"cpu\")\nmodel = CNN().to(device)\nmodel.load_state_dict(torch.load(\"../input/model-rand/model_rand (1)\"))\nmodel.eval()\noptimizer = optim.Adam(model.parameters(), lr=0.0005)\nnum_epoch = 10\nfor epoch in range(1, num_epoch):\n    i = 0\n    train(model, epoch, data, data_answers, batch_sz, i)\n    print(\"epochs: \", epoch)\n",
      "execution_count": null,
      "outputs": []
    },
    {
      "metadata": {
        "_uuid": "bd9aa818ca9fa34ce8bdd005798844ad27218f13",
        "trusted": false
      },
      "cell_type": "code",
      "source": "torch.save(model.state_dict(), \"./model_rand_2\")",
      "execution_count": null,
      "outputs": []
    },
    {
      "metadata": {
        "_uuid": "641ee9d235e2884d8a82e692efafc9abd5e36086",
        "trusted": false
      },
      "cell_type": "code",
      "source": "",
      "execution_count": null,
      "outputs": []
    }
  ],
  "metadata": {
    "kernelspec": {
      "display_name": "Python 3",
      "language": "python",
      "name": "python3"
    },
    "language_info": {
      "name": "python",
      "version": "3.6.6",
      "mimetype": "text/x-python",
      "codemirror_mode": {
        "name": "ipython",
        "version": 3
      },
      "pygments_lexer": "ipython3",
      "nbconvert_exporter": "python",
      "file_extension": ".py"
    }
  },
  "nbformat": 4,
  "nbformat_minor": 1
}